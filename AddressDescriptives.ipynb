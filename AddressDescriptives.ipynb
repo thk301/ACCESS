{
 "metadata": {
  "name": "",
  "signature": "sha256:b052e01178ab66fed8cb1768e323b352d8f52116c1ee2f8e271c0d066c8c628a"
 },
 "nbformat": 3,
 "nbformat_minor": 0,
 "worksheets": [
  {
   "cells": [
    {
     "cell_type": "code",
     "collapsed": false,
     "input": [
      "import pandas as pd\n",
      "address = pd.read_csv('addressDataCLEAN_PRD.csv', low_memory=False, parse_dates='LASTWRITTEN', index_col='LASTWRITTEN')"
     ],
     "language": "python",
     "metadata": {},
     "outputs": [],
     "prompt_number": 1
    },
    {
     "cell_type": "code",
     "collapsed": false,
     "input": [
      "address.head()"
     ],
     "language": "python",
     "metadata": {},
     "outputs": [
      {
       "html": [
        "<div style=\"max-height:1000px;max-width:1500px;overflow:auto;\">\n",
        "<table border=\"1\" class=\"dataframe\">\n",
        "  <thead>\n",
        "    <tr style=\"text-align: right;\">\n",
        "      <th></th>\n",
        "      <th>CONCERNROLEID</th>\n",
        "      <th>CITY</th>\n",
        "      <th>STATE</th>\n",
        "      <th>ZIP</th>\n",
        "      <th>BOROUGH</th>\n",
        "      <th>TYPECODE</th>\n",
        "      <th>Unnamed: 7</th>\n",
        "      <th>Unnamed: 8</th>\n",
        "    </tr>\n",
        "    <tr>\n",
        "      <th>LASTWRITTEN</th>\n",
        "      <th></th>\n",
        "      <th></th>\n",
        "      <th></th>\n",
        "      <th></th>\n",
        "      <th></th>\n",
        "      <th></th>\n",
        "      <th></th>\n",
        "      <th></th>\n",
        "    </tr>\n",
        "  </thead>\n",
        "  <tbody>\n",
        "    <tr>\n",
        "      <th>2007-05-15</th>\n",
        "      <td> 6121739894852157440</td>\n",
        "      <td>  brooklyn</td>\n",
        "      <td> NY</td>\n",
        "      <td> 11218</td>\n",
        "      <td> BC2</td>\n",
        "      <td> AT8</td>\n",
        "      <td>NaN</td>\n",
        "      <td> NaN</td>\n",
        "    </tr>\n",
        "    <tr>\n",
        "      <th>2007-05-22</th>\n",
        "      <td>-8937769493493448704</td>\n",
        "      <td>  Brooklyn</td>\n",
        "      <td> NY</td>\n",
        "      <td> 11204</td>\n",
        "      <td> BC2</td>\n",
        "      <td> AT7</td>\n",
        "      <td>NaN</td>\n",
        "      <td> NaN</td>\n",
        "    </tr>\n",
        "    <tr>\n",
        "      <th>2007-07-16</th>\n",
        "      <td>-9098144259520856064</td>\n",
        "      <td>  New York</td>\n",
        "      <td> NY</td>\n",
        "      <td> 10030</td>\n",
        "      <td> BC1</td>\n",
        "      <td> AT7</td>\n",
        "      <td>NaN</td>\n",
        "      <td> NaN</td>\n",
        "    </tr>\n",
        "    <tr>\n",
        "      <th>2007-07-28</th>\n",
        "      <td> 7293814892014862336</td>\n",
        "      <td>  Brooklyn</td>\n",
        "      <td> NY</td>\n",
        "      <td> 11218</td>\n",
        "      <td> BC2</td>\n",
        "      <td> AT8</td>\n",
        "      <td>NaN</td>\n",
        "      <td> NaN</td>\n",
        "    </tr>\n",
        "    <tr>\n",
        "      <th>2007-09-05</th>\n",
        "      <td> 7857688435203506176</td>\n",
        "      <td> Ridgewood</td>\n",
        "      <td> NY</td>\n",
        "      <td> 11385</td>\n",
        "      <td> BC3</td>\n",
        "      <td> AT8</td>\n",
        "      <td>NaN</td>\n",
        "      <td> NaN</td>\n",
        "    </tr>\n",
        "  </tbody>\n",
        "</table>\n",
        "</div>"
       ],
       "metadata": {},
       "output_type": "pyout",
       "prompt_number": 6,
       "text": [
        "                   CONCERNROLEID       CITY STATE    ZIP BOROUGH TYPECODE  \\\n",
        "LASTWRITTEN                                                                 \n",
        "2007-05-15   6121739894852157440   brooklyn    NY  11218     BC2      AT8   \n",
        "2007-05-22  -8937769493493448704   Brooklyn    NY  11204     BC2      AT7   \n",
        "2007-07-16  -9098144259520856064   New York    NY  10030     BC1      AT7   \n",
        "2007-07-28   7293814892014862336   Brooklyn    NY  11218     BC2      AT8   \n",
        "2007-09-05   7857688435203506176  Ridgewood    NY  11385     BC3      AT8   \n",
        "\n",
        "             Unnamed: 7 Unnamed: 8  \n",
        "LASTWRITTEN                         \n",
        "2007-05-15          NaN        NaN  \n",
        "2007-05-22          NaN        NaN  \n",
        "2007-07-16          NaN        NaN  \n",
        "2007-07-28          NaN        NaN  \n",
        "2007-09-05          NaN        NaN  "
       ]
      }
     ],
     "prompt_number": 6
    },
    {
     "cell_type": "code",
     "collapsed": false,
     "input": [
      "address.index"
     ],
     "language": "python",
     "metadata": {},
     "outputs": [
      {
       "metadata": {},
       "output_type": "pyout",
       "prompt_number": 7,
       "text": [
        "<class 'pandas.tseries.index.DatetimeIndex'>\n",
        "[2007-05-15, ..., 2015-02-25]\n",
        "Length: 292463, Freq: None, Timezone: None"
       ]
      }
     ],
     "prompt_number": 7
    },
    {
     "cell_type": "code",
     "collapsed": false,
     "input": [
      "address.index.year"
     ],
     "language": "python",
     "metadata": {},
     "outputs": [
      {
       "metadata": {},
       "output_type": "pyout",
       "prompt_number": 8,
       "text": [
        "array([2007, 2007, 2007, ..., 2015, 2015, 2015])"
       ]
      }
     ],
     "prompt_number": 8
    },
    {
     "cell_type": "code",
     "collapsed": false,
     "input": [
      "address['Year']=address.index.year"
     ],
     "language": "python",
     "metadata": {},
     "outputs": [],
     "prompt_number": 10
    },
    {
     "cell_type": "code",
     "collapsed": false,
     "input": [
      "zip_counts = address['ZIP'].value_counts()\n",
      "zip_counts.head(10).plot(kind='bar')"
     ],
     "language": "python",
     "metadata": {},
     "outputs": [
      {
       "metadata": {},
       "output_type": "pyout",
       "prompt_number": 35,
       "text": [
        "<matplotlib.axes._subplots.AxesSubplot at 0x10f3a3d50>"
       ]
      },
      {
       "metadata": {},
       "output_type": "display_data",
       "png": "[encoded data removed]",
       "text": [
        "<matplotlib.figure.Figure at 0x10e8b9c10>"
       ]
      }
     ],
     "prompt_number": 35
    },
    {
     "cell_type": "code",
     "collapsed": false,
     "input": [
      "address['Month']=address.index.month"
     ],
     "language": "python",
     "metadata": {},
     "outputs": [],
     "prompt_number": 36
    },
    {
     "cell_type": "code",
     "collapsed": false,
     "input": [
      "address['Month'].value_counts().plot(kind='bar')"
     ],
     "language": "python",
     "metadata": {},
     "outputs": [
      {
       "metadata": {},
       "output_type": "pyout",
       "prompt_number": 40,
       "text": [
        "<matplotlib.axes._subplots.AxesSubplot at 0x10f352450>"
       ]
      },
      {
       "metadata": {},
       "output_type": "display_data",
       "png": "[encoded data removed]",
       "text": [
        "<matplotlib.figure.Figure at 0x10f22da90>"
       ]
      }
     ],
     "prompt_number": 40
    },
    {
     "cell_type": "code",
     "collapsed": false,
     "input": [
      "address['ZIP'].value_counts()"
     ],
     "language": "python",
     "metadata": {},
     "outputs": [
      {
       "metadata": {},
       "output_type": "pyout",
       "prompt_number": 3,
       "text": [
        "11207    5404\n",
        "11208    4958\n",
        "11226    4827\n",
        "11212    4682\n",
        "11220    4616\n",
        "11236    4563\n",
        "11221    4488\n",
        "10467    4230\n",
        "10456    4118\n",
        "11233    4003\n",
        "10453    3811\n",
        "11385    3598\n",
        "10452    3524\n",
        "10458    3477\n",
        "11213    3420\n",
        "...\n",
        "13110    1\n",
        "13111    1\n",
        "13114    1\n",
        "13118    1\n",
        "13131    1\n",
        "13135    1\n",
        "13143    1\n",
        "13214    1\n",
        "13148    1\n",
        "13157    1\n",
        "13158    1\n",
        "13166    1\n",
        "13167    1\n",
        "13211    1\n",
        "11919    1\n",
        "Length: 1718, dtype: int64"
       ]
      }
     ],
     "prompt_number": 3
    },
    {
     "cell_type": "code",
     "collapsed": false,
     "input": [
      "address['ZIP']"
     ],
     "language": "python",
     "metadata": {},
     "outputs": [
      {
       "metadata": {},
       "output_type": "pyout",
       "prompt_number": 4,
       "text": [
        "LASTWRITTEN\n",
        "2007-05-15     11218\n",
        "2007-05-22     11204\n",
        "2007-07-16     10030\n",
        "2007-07-28     11218\n",
        "2007-09-05     11385\n",
        "2007-09-06     10453\n",
        "2007-09-12     11238\n",
        "2007-09-18     10451\n",
        "2007-09-21     11204\n",
        "2007-12-04     10457\n",
        "2007-12-13     10471\n",
        "2007-12-17     11238\n",
        "2007-12-19     10451\n",
        "2008-01-11     11201\n",
        "2008-01-23     11211\n",
        "...\n",
        "2015-03-22     11434\n",
        "2015-03-23     10468\n",
        "2015-03-23     11225\n",
        "2015-03-23     11377\n",
        "2015-03-23     11208\n",
        "2015-03-23     11373\n",
        "2015-03-23     11235\n",
        "2015-02-23     11434\n",
        "2015-02-23     10314\n",
        "2015-02-24     11206\n",
        "2015-02-24     10454\n",
        "2015-02-24     10457\n",
        "2015-02-24     11385\n",
        "2015-02-24     10467\n",
        "2015-02-25     10473\n",
        "Name: ZIP, Length: 292463"
       ]
      }
     ],
     "prompt_number": 4
    },
    {
     "cell_type": "code",
     "collapsed": false,
     "input": [],
     "language": "python",
     "metadata": {},
     "outputs": [
      {
       "metadata": {},
       "output_type": "pyout",
       "prompt_number": 3,
       "text": [
        "292463"
       ]
      }
     ],
     "prompt_number": 3
    },
    {
     "cell_type": "code",
     "collapsed": false,
     "input": [],
     "language": "python",
     "metadata": {},
     "outputs": []
    }
   ],
   "metadata": {}
  }
 ]
}